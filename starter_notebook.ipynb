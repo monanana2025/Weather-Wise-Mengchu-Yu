{
  "cells": [
    {
      "cell_type": "markdown",
      "metadata": {
        "id": "view-in-github",
        "colab_type": "text"
      },
      "source": [
        "<a href=\"https://colab.research.google.com/github/monanana2025/Weather-Wise-Mengchu-Yu/blob/main/starter_notebook.ipynb\" target=\"_parent\"><img src=\"https://colab.research.google.com/assets/colab-badge.svg\" alt=\"Open In Colab\"/></a>"
      ]
    },
    {
      "cell_type": "markdown",
      "id": "72e78a05",
      "metadata": {
        "id": "72e78a05"
      },
      "source": [
        "# 🌦️ WeatherWise – Starter Notebook\n",
        "\n",
        "Welcome to your **WeatherWise** project notebook! This scaffold is designed to help you build your weather advisor app using Python, visualisations, and AI-enhanced development.\n",
        "\n",
        "---\n",
        "\n",
        "📄 **Full Assignment Specification**  \n",
        "See [`ASSIGNMENT.md`](ASSIGNMENT.md) or check the LMS for full details.\n",
        "\n",
        "📝 **Quick Refresher**  \n",
        "A one-page summary is available in [`resources/assignment-summary.md`](resources/assignment-summary.md).\n",
        "\n",
        "---\n",
        "\n",
        "🧠 **This Notebook Structure is Optional**  \n",
        "You’re encouraged to reorganise, rename sections, or remove scaffold cells if you prefer — as long as your final version meets the requirements.\n",
        "\n",
        "✅ You may delete this note before submission.\n",
        "\n"
      ]
    },
    {
      "cell_type": "markdown",
      "id": "fa8c7f6c",
      "metadata": {
        "id": "fa8c7f6c"
      },
      "source": [
        "## 🧰 Setup and Imports\n",
        "\n",
        "This section imports commonly used packages and installs any additional tools used in the project.\n",
        "\n",
        "- You may not need all of these unless you're using specific features (e.g. visualisations, advanced prompting).\n",
        "- The notebook assumes the following packages are **pre-installed** in the provided environment or installable via pip:\n",
        "  - `requests`, `matplotlib`, `pyinputplus`\n",
        "  - `fetch-my-weather` (for accessing weather data easily)\n",
        "  - `hands-on-ai` (for AI logging, comparisons, or prompting tools)\n",
        "\n",
        "If you're running this notebook in **Google Colab**, uncomment the following lines to install the required packages.\n"
      ]
    },
    {
      "cell_type": "code",
      "execution_count": null,
      "id": "70c3f3f1",
      "metadata": {
        "id": "70c3f3f1",
        "collapsed": true
      },
      "outputs": [],
      "source": [
        "# 🧪 Optional packages — uncomment if needed in Colab or JupyterHub\n",
        "!pip install fetch-my-weather\n",
        "!pip install hands-on-ai\n",
        "!pip install pyinputplus\n",
        "\n",
        "!pip install ipywidgets"
      ]
    },
    {
      "cell_type": "code",
      "source": [
        "import os\n",
        "\n",
        "os.environ['HANDS_ON_AI_SERVER'] = 'http://ollama.serveur.au'\n",
        "os.environ['HANDS_ON_AI_MODEL'] = 'granite3.2'\n",
        "os.environ['HANDS_ON_AI_API_KEY'] = input('Enter your API key: ')"
      ],
      "metadata": {
        "id": "B2JKlJfrGgIb"
      },
      "id": "B2JKlJfrGgIb",
      "execution_count": null,
      "outputs": []
    },
    {
      "cell_type": "markdown",
      "id": "59ae7543",
      "metadata": {
        "id": "59ae7543"
      },
      "source": [
        "## 📦 Setup and Configuration\n",
        "Import required packages and setup environment."
      ]
    },
    {
      "cell_type": "code",
      "execution_count": null,
      "id": "f1dd051e",
      "metadata": {
        "id": "f1dd051e"
      },
      "outputs": [],
      "source": [
        "import requests\n",
        "import matplotlib.pyplot as plt\n",
        "import pyinputplus as pyip\n",
        "# ✅ Import after installing (if needed)\n",
        "from fetch_my_weather import get_weather\n",
        "from hands_on_ai.chat import get_response\n",
        "\n",
        "# Add any other setup code here\n",
        "import ipywidgets as widgets\n",
        "from IPython.display import display"
      ]
    },
    {
      "cell_type": "markdown",
      "id": "f736ade3",
      "metadata": {
        "id": "f736ade3"
      },
      "source": [
        "## 🌤️ Weather Data Functions"
      ]
    },
    {
      "cell_type": "code",
      "execution_count": null,
      "id": "7a2c7cd0",
      "metadata": {
        "id": "7a2c7cd0"
      },
      "outputs": [],
      "source": [
        "# Define get_weather_data() function here\n",
        "\n",
        "#====================================================================\n",
        "# NOTE: ALL widgets were move to the 🧭 User Interface section\n",
        "#====================================================================\n",
        "\n",
        "def get_weather_data(city: str, duration: int=1) -> dict:\n",
        "  if not city:\n",
        "    print(\"No city provided, defalut to Perth, WA\")\n",
        "    city = \"Perth, WA\"\n",
        "  try:\n",
        "    # change variable name back to (location, forecast_days)\n",
        "    #because fetch_my_weather.get_weather() requires these names.\n",
        "    return get_weather(location=city.strip(), forecast_days=int(duration))\n",
        "  except Exception as e:\n",
        "    print(f\"Error fetching weather data: {e}\")\n",
        "    return None\n",
        "\n",
        "#====================================================================\n",
        "# BELOW: Original code kept for traceability, NOT executed\n",
        "#====================================================================\n",
        "### Pick start date\n",
        "#date_picker = widgets.DatePicker(\n",
        "#    description='Start Date',\n",
        "#    disabled=False,\n",
        "#    layout=widgets.Layout(width=\"350px\")\n",
        "#)\n",
        "\n",
        "## Duration\n",
        "#duration_days = widgets.Dropdown(\n",
        "#    options=[1, 2, 3, 4, 5],\n",
        "#    value=1,\n",
        "#    description='Duration (days):',\n",
        "#    disabled=False,\n",
        "#    layout=widgets.Layout(width=\"350px\")\n",
        "#)\n",
        "\n",
        "#===========================================================\n",
        "#update by city selction\n",
        "#===========================================================\n",
        "\n",
        "##input city\n",
        "\n",
        "#while True:\n",
        "#  city = input(\"please enter a city\").strip()\n",
        "#  if isinstance(city,str) and len(city) > 0 and not city.isdigit():\n",
        "#    print(f\"You entered: {city}\")\n",
        "#    break\n",
        "#  else:\n",
        "#    print(\"Invalid input. Please enter a non-empty string.\")\n",
        "#===========================================================\n",
        "\n",
        "## Predifined major cities\n",
        "#city_options = [\n",
        "#    \"Perth, WA\", \"Melbourne, VIC\", \"Sydney, NSW\", \"Brisbane, QLD\", \"Adelaide, SA\",\n",
        "#    \"Darwin, NT\", \"Hobart, TAS\", \"Canberra, ACT\", \"Custom City\"\n",
        "#]\n",
        "\n",
        "## city selection\n",
        "#city_dropdown = widgets.Dropdown(\n",
        "#    options=city_options,\n",
        "#    value=\"Perth, WA\",\n",
        "#    description='Select City:',\n",
        "#    disabled=False,\n",
        "#    layout=widgets.Layout(width=\"350px\")\n",
        "#)\n",
        "\n",
        "##custom selection\n",
        "#custom_city = widgets.Text(\n",
        "#    value=\"\",\n",
        "#    placeholder=\"Enter custom city\",\n",
        "#    description=\"Custom City:\",\n",
        "#    disabled=True,\n",
        "#    layout=widgets.Layout(width=\"350px\")\n",
        "#)\n",
        "\n",
        "#def on_city_change(change):\n",
        "#    custom_city.disabled = change['new'] != \"Custom City\"\n",
        "#    if change['new'] != \"Custom City\":\n",
        "#        custom_city.value =\"\"\n",
        "\n",
        "#city_dropdown.observe(on_city_change, names='value')\n",
        "\n",
        "\n",
        "## Action button\n",
        "#run_button = widgets.Button(\n",
        "#    description=\"Run\")\n",
        "#output = widgets.Output()\n",
        "\n",
        "##display\n",
        "#display(date_picker, duration_days, city_dropdown, custom_city, run_button, output)\n"
      ]
    },
    {
      "cell_type": "markdown",
      "id": "8a744fdc",
      "metadata": {
        "id": "8a744fdc"
      },
      "source": [
        "## 📊 Visualisation Functions"
      ]
    },
    {
      "cell_type": "code",
      "execution_count": null,
      "id": "9dc3bf85",
      "metadata": {
        "id": "9dc3bf85"
      },
      "outputs": [],
      "source": [
        "# Define create_temperature_visualisation() and create_precipitation_visualisation() here\n",
        "def create_temperature_visualisation(weather_data, output_type='display'):\n",
        "    \"\"\"\n",
        "    Create visualisation of temperature data.\n",
        "\n",
        "    Args:\n",
        "        weather_data (dict): The processed weather data\n",
        "        output_type (str): Either 'display' to show in notebook or 'figure' to return the figure\n",
        "\n",
        "    Returns:\n",
        "        If output_type is 'figure', returns the matplotlib figure object\n",
        "        Otherwise, displays the visualisation in the notebook\n",
        "    \"\"\"\n",
        "\n",
        "    if not weather_data or \"forecast\" not in weather_data:\n",
        "        print(\"No weather data available for visualisation.\")\n",
        "        return\n",
        "\n",
        "    dates = [day['date'] for day in weather_data['forecast']]\n",
        "    temps = [day['temperature'] for day in weather_data['forecast']]\n",
        "\n",
        "    plt.figure(figsize=(10, 6))\n",
        "    plt.plot(dates, temps, marker='o', linestyle='-', color='b')\n",
        "    plt.title('Temperature Forecast')\n",
        "    plt.xlabel('Date')\n",
        "    plt.ylabel('Temperature (°C)')\n",
        "    plt.grid(True)\n",
        "    plt.tight_layout()\n",
        "\n",
        "    if output_type == 'display':\n",
        "        plt.show()\n",
        "    else:\n",
        "        return plt.gcf()\n"
      ]
    },
    {
      "cell_type": "code",
      "source": [
        "def create_precipitation_visualisation(weather_data, output_type='display'):\n",
        "    \"\"\"\n",
        "    Create visualisation of precipitation data.\n",
        "\n",
        "    Args:\n",
        "        weather_data (dict): The processed weather data\n",
        "        output_type (str): Either 'display' to show in notebook or 'figure' to return the figure\n",
        "\n",
        "    Returns:\n",
        "        If output_type is 'figure', returns the matplotlib figure object\n",
        "        Otherwise, displays the visualisation in the notebook\n",
        "    \"\"\"\n",
        "\n",
        "    from collections import Counter\n",
        "\n",
        "    if not weather_data or \"forecast\" not in weather_data:\n",
        "        print(\"No weather data available for visualisation.\")\n",
        "        return\n",
        "\n",
        "    conditions = [day['conditions'] for day in weather_data['forecast']]\n",
        "    precipitation_counts = Counter(conditions)\n",
        "\n",
        "    plt.figure(figsize=(10, 6))\n",
        "    plt.bar(precipitation_counts.keys(), precipitation_counts.values(), color='skyblue')\n",
        "    plt.title('Precipitation Forecast')\n",
        "    plt.xlabel('Conditions')\n",
        "    plt.ylabel('Frequency')\n",
        "    plt.xticks(rotation=45)\n",
        "    plt.tight_layout()\n",
        "\n",
        "    if output_type == 'display':\n",
        "        plt.show()\n",
        "    else:\n",
        "        return plt.gcf()\n",
        "\n"
      ],
      "metadata": {
        "id": "HpOlQylYG5Ho"
      },
      "id": "HpOlQylYG5Ho",
      "execution_count": null,
      "outputs": []
    },
    {
      "cell_type": "markdown",
      "id": "9f95d160",
      "metadata": {
        "id": "9f95d160"
      },
      "source": [
        "## 🤖 Natural Language Processing"
      ]
    },
    {
      "cell_type": "code",
      "execution_count": null,
      "id": "bcc5833e",
      "metadata": {
        "id": "bcc5833e"
      },
      "outputs": [],
      "source": [
        "# Define parse_weather_question() and generate_weather_response() here\n",
        "def parse_weather_question(question: str) -> dict:\n",
        "    \"\"\"\n",
        "    Parse a natural language weather question.\n",
        "\n",
        "    Args:\n",
        "        question (str): User's weather-related question\n",
        "\n",
        "    Returns:\n",
        "        dict: Extracted information including location, time period, and weather attribute\n",
        "    \"\"\"\n",
        "    if not question or not isinstance(question, str):\n",
        "        print(\"No question provided\")\n",
        "        return None\n",
        "\n",
        "    prompt = f\"\"\"\n",
        "    You are a weather question parser.\n",
        "Extract the city name, forecast days (1-5), and weather type from the question below.\n",
        "If missing, assume city='Perth, WA' and forecast_days=3.\n",
        "Question: {question}\n",
        "\n",
        "return output as JSON:\n",
        "{{\n",
        "  \"city\": \"string\",\n",
        "  \"forecast_days\": int,\n",
        "  \"weather_type\": \"string\"\n",
        "}}\n",
        "\"\"\"\n",
        "    response = get_response(prompt)\n",
        "    print(response)\n",
        "\n",
        "    try:\n",
        "      ai_reply = get_response(prompt)\n",
        "      print(\"AI reply:\", ai_reply)\n",
        "      return eval(ai_reply)\n",
        "    except Exception as e:\n",
        "      print(f\"Error parsing question: {e}\")\n",
        "      return None\n"
      ]
    },
    {
      "cell_type": "markdown",
      "id": "0d85225e",
      "metadata": {
        "id": "0d85225e"
      },
      "source": [
        "## 🧭 User Interface"
      ]
    },
    {
      "cell_type": "code",
      "execution_count": null,
      "id": "fa6cb0f6",
      "metadata": {
        "id": "fa6cb0f6"
      },
      "outputs": [],
      "source": [
        "# Define menu functions using pyinputplus or ipywidgets here\n",
        "## Pick start date\n",
        "date_picker = widgets.DatePicker(\n",
        "    description='Start Date',\n",
        "    disabled=False,\n",
        "    layout=widgets.Layout(width=\"350px\")\n",
        ")\n",
        "\n",
        "# Duration\n",
        "duration_days = widgets.Dropdown(\n",
        "    options=[1, 2, 3, 4, 5],\n",
        "    value=1,\n",
        "    description='Duration (days):',\n",
        "    disabled=False,\n",
        "    layout=widgets.Layout(width=\"350px\")\n",
        ")\n",
        "\n",
        "#===========================================================\n",
        "#update by city selction\n",
        "#===========================================================\n",
        "\n",
        "##input city\n",
        "\n",
        "#while True:\n",
        "#  city = input(\"please enter a city\").strip()\n",
        "#  if isinstance(city,str) and len(city) > 0 and not city.isdigit():\n",
        "#    print(f\"You entered: {city}\")\n",
        "#    break\n",
        "#  else:\n",
        "#    print(\"Invalid input. Please enter a non-empty string.\")\n",
        "#===========================================================\n",
        "\n",
        "# Predifined major cities\n",
        "city_options = [\n",
        "    \"Perth, WA\", \"Melbourne, VIC\", \"Sydney, NSW\", \"Brisbane, QLD\", \"Adelaide, SA\",\n",
        "    \"Darwin, NT\", \"Hobart, TAS\", \"Canberra, ACT\", \"Custom City\"\n",
        "]\n",
        "\n",
        "# city selection\n",
        "city_dropdown = widgets.Dropdown(\n",
        "    options=city_options,\n",
        "    value=\"Perth, WA\",\n",
        "    description='Select City:',\n",
        "    disabled=False,\n",
        "    layout=widgets.Layout(width=\"350px\")\n",
        ")\n",
        "\n",
        "#custom selection\n",
        "custom_city = widgets.Text(\n",
        "    value=\"\",\n",
        "    placeholder=\"Enter custom city\",\n",
        "    description=\"Custom City:\",\n",
        "    disabled=True,\n",
        "    layout=widgets.Layout(width=\"350px\")\n",
        ")\n",
        "\n",
        "def on_city_change(change):\n",
        "    custom_city.disabled = change['new'] != \"Custom City\"\n",
        "    if change['new'] != \"Custom City\":\n",
        "        custom_city.value =\"\"\n",
        "\n",
        "city_dropdown.observe(on_city_change, names='value')\n",
        "\n",
        "# Action button\n",
        "run_button = widgets.Button(\n",
        "    description=\"Run\")\n",
        "output = widgets.Output()\n",
        "\n",
        "#display\n",
        "display(date_picker, duration_days, city_dropdown, custom_city, run_button, output)\n"
      ]
    },
    {
      "cell_type": "markdown",
      "id": "d643a53c",
      "metadata": {
        "id": "d643a53c"
      },
      "source": [
        "## 🧩 Main Application Logic"
      ]
    },
    {
      "cell_type": "code",
      "execution_count": null,
      "id": "a9e2e805",
      "metadata": {
        "id": "a9e2e805"
      },
      "outputs": [],
      "source": [
        "# Tie everything together here\n",
        "def generate_weather_response(parsed_question, weather_data):\n",
        "\n",
        "    \"\"\"\n",
        "    Generate a natural language response to a weather question.\n",
        "\n",
        "    Args:\n",
        "        parsed_question (dict): Parsed question data\n",
        "        weather_data (dict): Weather data\n",
        "\n",
        "    Returns:\n",
        "        str: Natural language response\n",
        "    \"\"\"\n",
        "    pass"
      ]
    },
    {
      "cell_type": "markdown",
      "id": "fde44479",
      "metadata": {
        "id": "fde44479"
      },
      "source": [
        "## 🧪 Testing and Examples"
      ]
    },
    {
      "cell_type": "code",
      "execution_count": null,
      "id": "4e573901",
      "metadata": {
        "id": "4e573901"
      },
      "outputs": [],
      "source": [
        "# Include sample input/output for each function"
      ]
    },
    {
      "cell_type": "markdown",
      "id": "d2885880",
      "metadata": {
        "id": "d2885880"
      },
      "source": [
        "## 🗂️ AI Prompting Log (Optional)\n",
        "Add markdown cells here summarising prompts used or link to AI conversations in the `ai-conversations/` folder."
      ]
    }
  ],
  "metadata": {
    "language_info": {
      "name": "python"
    },
    "colab": {
      "provenance": [],
      "include_colab_link": true
    },
    "kernelspec": {
      "name": "python3",
      "display_name": "Python 3"
    }
  },
  "nbformat": 4,
  "nbformat_minor": 5
}